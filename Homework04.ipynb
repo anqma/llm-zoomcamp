{
 "cells": [
  {
   "cell_type": "markdown",
   "metadata": {},
   "source": [
    "# Homework 4"
   ]
  },
  {
   "cell_type": "code",
   "execution_count": 3,
   "metadata": {},
   "outputs": [
    {
     "name": "stderr",
     "output_type": "stream",
     "text": [
      "/home/ana/miniconda3/lib/python3.12/site-packages/sentence_transformers/cross_encoder/CrossEncoder.py:11: TqdmWarning: IProgress not found. Please update jupyter and ipywidgets. See https://ipywidgets.readthedocs.io/en/stable/user_install.html\n",
      "  from tqdm.autonotebook import tqdm, trange\n"
     ]
    }
   ],
   "source": [
    "import numpy as np\n",
    "import pandas as pd\n",
    "from rouge import Rouge\n",
    "from typing import Literal\n",
    "from sentence_transformers import SentenceTransformer"
   ]
  },
  {
   "cell_type": "code",
   "execution_count": 4,
   "metadata": {},
   "outputs": [
    {
     "data": {
      "text/html": [
       "<div>\n",
       "<style scoped>\n",
       "    .dataframe tbody tr th:only-of-type {\n",
       "        vertical-align: middle;\n",
       "    }\n",
       "\n",
       "    .dataframe tbody tr th {\n",
       "        vertical-align: top;\n",
       "    }\n",
       "\n",
       "    .dataframe thead th {\n",
       "        text-align: right;\n",
       "    }\n",
       "</style>\n",
       "<table border=\"1\" class=\"dataframe\">\n",
       "  <thead>\n",
       "    <tr style=\"text-align: right;\">\n",
       "      <th></th>\n",
       "      <th>answer_llm</th>\n",
       "      <th>answer_orig</th>\n",
       "      <th>document</th>\n",
       "      <th>question</th>\n",
       "      <th>course</th>\n",
       "    </tr>\n",
       "  </thead>\n",
       "  <tbody>\n",
       "    <tr>\n",
       "      <th>0</th>\n",
       "      <td>You can sign up for the course by visiting the...</td>\n",
       "      <td>Machine Learning Zoomcamp FAQ\\nThe purpose of ...</td>\n",
       "      <td>0227b872</td>\n",
       "      <td>Where can I sign up for the course?</td>\n",
       "      <td>machine-learning-zoomcamp</td>\n",
       "    </tr>\n",
       "    <tr>\n",
       "      <th>1</th>\n",
       "      <td>You can sign up using the link provided in the...</td>\n",
       "      <td>Machine Learning Zoomcamp FAQ\\nThe purpose of ...</td>\n",
       "      <td>0227b872</td>\n",
       "      <td>Can you provide a link to sign up?</td>\n",
       "      <td>machine-learning-zoomcamp</td>\n",
       "    </tr>\n",
       "    <tr>\n",
       "      <th>2</th>\n",
       "      <td>Yes, there is an FAQ for the Machine Learning ...</td>\n",
       "      <td>Machine Learning Zoomcamp FAQ\\nThe purpose of ...</td>\n",
       "      <td>0227b872</td>\n",
       "      <td>Is there an FAQ for this Machine Learning course?</td>\n",
       "      <td>machine-learning-zoomcamp</td>\n",
       "    </tr>\n",
       "    <tr>\n",
       "      <th>3</th>\n",
       "      <td>The context does not provide any specific info...</td>\n",
       "      <td>Machine Learning Zoomcamp FAQ\\nThe purpose of ...</td>\n",
       "      <td>0227b872</td>\n",
       "      <td>Does this course have a GitHub repository for ...</td>\n",
       "      <td>machine-learning-zoomcamp</td>\n",
       "    </tr>\n",
       "    <tr>\n",
       "      <th>4</th>\n",
       "      <td>To structure your questions and answers for th...</td>\n",
       "      <td>Machine Learning Zoomcamp FAQ\\nThe purpose of ...</td>\n",
       "      <td>0227b872</td>\n",
       "      <td>How can I structure my questions and answers f...</td>\n",
       "      <td>machine-learning-zoomcamp</td>\n",
       "    </tr>\n",
       "  </tbody>\n",
       "</table>\n",
       "</div>"
      ],
      "text/plain": [
       "                                          answer_llm  \\\n",
       "0  You can sign up for the course by visiting the...   \n",
       "1  You can sign up using the link provided in the...   \n",
       "2  Yes, there is an FAQ for the Machine Learning ...   \n",
       "3  The context does not provide any specific info...   \n",
       "4  To structure your questions and answers for th...   \n",
       "\n",
       "                                         answer_orig  document  \\\n",
       "0  Machine Learning Zoomcamp FAQ\\nThe purpose of ...  0227b872   \n",
       "1  Machine Learning Zoomcamp FAQ\\nThe purpose of ...  0227b872   \n",
       "2  Machine Learning Zoomcamp FAQ\\nThe purpose of ...  0227b872   \n",
       "3  Machine Learning Zoomcamp FAQ\\nThe purpose of ...  0227b872   \n",
       "4  Machine Learning Zoomcamp FAQ\\nThe purpose of ...  0227b872   \n",
       "\n",
       "                                            question  \\\n",
       "0                Where can I sign up for the course?   \n",
       "1                 Can you provide a link to sign up?   \n",
       "2  Is there an FAQ for this Machine Learning course?   \n",
       "3  Does this course have a GitHub repository for ...   \n",
       "4  How can I structure my questions and answers f...   \n",
       "\n",
       "                      course  \n",
       "0  machine-learning-zoomcamp  \n",
       "1  machine-learning-zoomcamp  \n",
       "2  machine-learning-zoomcamp  \n",
       "3  machine-learning-zoomcamp  \n",
       "4  machine-learning-zoomcamp  "
      ]
     },
     "execution_count": 4,
     "metadata": {},
     "output_type": "execute_result"
    }
   ],
   "source": [
    "github_url = \"https://raw.githubusercontent.com/DataTalksClub/llm-zoomcamp/main/04-monitoring/data/results-gpt4o-mini.csv\"\n",
    "url = f'{github_url}?raw=1'\n",
    "df = pd.read_csv(url)\n",
    "df = df.iloc[:300]\n",
    "df.head()"
   ]
  },
  {
   "cell_type": "markdown",
   "metadata": {},
   "source": [
    "### Q1:"
   ]
  },
  {
   "cell_type": "code",
   "execution_count": 7,
   "metadata": {},
   "outputs": [],
   "source": [
    "model_name = \"multi-qa-mpnet-base-dot-v1\"\n",
    "embedding_model = SentenceTransformer(model_name)"
   ]
  },
  {
   "cell_type": "code",
   "execution_count": 8,
   "metadata": {},
   "outputs": [
    {
     "data": {
      "text/plain": [
       "'You can sign up for the course by visiting the course page at [http://mlzoomcamp.com/](http://mlzoomcamp.com/).'"
      ]
     },
     "execution_count": 8,
     "metadata": {},
     "output_type": "execute_result"
    }
   ],
   "source": [
    "answer_llm = df.iloc[0].answer_llm\n",
    "answer_llm"
   ]
  },
  {
   "cell_type": "code",
   "execution_count": 10,
   "metadata": {},
   "outputs": [
    {
     "name": "stdout",
     "output_type": "stream",
     "text": [
      "Q1: The first value of the resulting vector -0.42\n"
     ]
    }
   ],
   "source": [
    "embedding_vector = embedding_model.encode(answer_llm)\n",
    "print(f\"Q1: The first value of the resulting vector {embedding_vector[0]:.2f}\")"
   ]
  },
  {
   "cell_type": "markdown",
   "metadata": {},
   "source": [
    "### Q2:"
   ]
  },
  {
   "cell_type": "code",
   "execution_count": 14,
   "metadata": {},
   "outputs": [],
   "source": [
    "def compute_dot_product(\n",
    "        model: SentenceTransformer,\n",
    "        row: pd.Series) -> np.float32:\n",
    "    return model.encode(row.answer_llm) @ model.encode(row.answer_orig)\n",
    "\n",
    "evaluations = df.apply(\n",
    "    lambda row: compute_dot_product(embedding_model, row),\n",
    "    axis=1\n",
    ")"
   ]
  },
  {
   "cell_type": "code",
   "execution_count": 15,
   "metadata": {},
   "outputs": [
    {
     "name": "stdout",
     "output_type": "stream",
     "text": [
      "Q2: The 75th percentile of the scores is 31.67\n"
     ]
    }
   ],
   "source": [
    "# Calculate the 75th percentile of the scores\n",
    "percentile_75 = np.percentile(evaluations, 75)\n",
    "\n",
    "print(f\"Q2: The 75th percentile of the scores is {percentile_75:.2f}\")"
   ]
  },
  {
   "cell_type": "markdown",
   "metadata": {},
   "source": [
    "### Q3:"
   ]
  },
  {
   "cell_type": "code",
   "execution_count": 16,
   "metadata": {},
   "outputs": [],
   "source": [
    "def compute_cos_similarity(\n",
    "        model: SentenceTransformer,\n",
    "        row: pd.Series) -> np.float32:\n",
    "    lhs = model.encode(row.answer_llm)\n",
    "    rhs = model.encode(row.answer_orig)\n",
    "    return (lhs / np.linalg.norm(lhs, 2)) @ (rhs / np.linalg.norm(rhs, 2))\n",
    "    \n",
    "\n",
    "evaluations_cos = df.apply(\n",
    "    lambda row: compute_cos_similarity(embedding_model, row),\n",
    "    axis=1\n",
    ")"
   ]
  },
  {
   "cell_type": "code",
   "execution_count": 17,
   "metadata": {},
   "outputs": [
    {
     "name": "stdout",
     "output_type": "stream",
     "text": [
      "Q3: The 75th percentile cosine scores is 0.84\n"
     ]
    }
   ],
   "source": [
    "percentile_75_q3 = np.percentile(evaluations_cos, 75.0)\n",
    "print(f\"Q3: The 75th percentile cosine scores is {percentile_75_q3:.2f}\")"
   ]
  },
  {
   "cell_type": "markdown",
   "metadata": {},
   "source": [
    "### Q4:"
   ]
  },
  {
   "cell_type": "code",
   "execution_count": 18,
   "metadata": {},
   "outputs": [],
   "source": [
    "rouge_scorer = Rouge()\n",
    "\n",
    "scores = rouge_scorer.get_scores(df['answer_llm'], df['answer_orig'])[10]"
   ]
  },
  {
   "cell_type": "code",
   "execution_count": 19,
   "metadata": {},
   "outputs": [
    {
     "name": "stdout",
     "output_type": "stream",
     "text": [
      "Q4: The F1 score for ROUGE-1 at index 10 is 0.45\n"
     ]
    }
   ],
   "source": [
    "rouge_1_f_score = scores['rouge-1']['f']\n",
    "\n",
    "print(f\"Q4: The F1 score for ROUGE-1 at index 10 is {rouge_1_f_score:.2f}\")"
   ]
  },
  {
   "cell_type": "markdown",
   "metadata": {},
   "source": [
    "### Q5:"
   ]
  },
  {
   "cell_type": "code",
   "execution_count": 20,
   "metadata": {},
   "outputs": [],
   "source": [
    "f_scores = [score['f'] for score in scores.values()]\n",
    "\n",
    "average_f_score = sum(f_scores) / len(f_scores)"
   ]
  },
  {
   "cell_type": "code",
   "execution_count": 21,
   "metadata": {},
   "outputs": [
    {
     "name": "stdout",
     "output_type": "stream",
     "text": [
      "Q5: The average ROUGE score (F1) for index 10 is 0.35\n"
     ]
    }
   ],
   "source": [
    "print(f\"Q5: The average ROUGE score (F1) for index 10 is {average_f_score:.2f}\")"
   ]
  },
  {
   "cell_type": "markdown",
   "metadata": {},
   "source": [
    "### Q6:"
   ]
  },
  {
   "cell_type": "code",
   "execution_count": 26,
   "metadata": {},
   "outputs": [
    {
     "data": {
      "text/html": [
       "<div>\n",
       "<style scoped>\n",
       "    .dataframe tbody tr th:only-of-type {\n",
       "        vertical-align: middle;\n",
       "    }\n",
       "\n",
       "    .dataframe tbody tr th {\n",
       "        vertical-align: top;\n",
       "    }\n",
       "\n",
       "    .dataframe thead th {\n",
       "        text-align: right;\n",
       "    }\n",
       "</style>\n",
       "<table border=\"1\" class=\"dataframe\">\n",
       "  <thead>\n",
       "    <tr style=\"text-align: right;\">\n",
       "      <th></th>\n",
       "      <th>rouge-1</th>\n",
       "      <th>rouge-2</th>\n",
       "      <th>rouge-l</th>\n",
       "    </tr>\n",
       "  </thead>\n",
       "  <tbody>\n",
       "    <tr>\n",
       "      <th>0</th>\n",
       "      <td>{'r': 0.061224489795918366, 'p': 0.21428571428...</td>\n",
       "      <td>{'r': 0.017543859649122806, 'p': 0.07142857142...</td>\n",
       "      <td>{'r': 0.061224489795918366, 'p': 0.21428571428...</td>\n",
       "    </tr>\n",
       "    <tr>\n",
       "      <th>1</th>\n",
       "      <td>{'r': 0.08163265306122448, 'p': 0.266666666666...</td>\n",
       "      <td>{'r': 0.03508771929824561, 'p': 0.133333333333...</td>\n",
       "      <td>{'r': 0.061224489795918366, 'p': 0.2, 'f': 0.0...</td>\n",
       "    </tr>\n",
       "    <tr>\n",
       "      <th>2</th>\n",
       "      <td>{'r': 0.32653061224489793, 'p': 0.571428571428...</td>\n",
       "      <td>{'r': 0.14035087719298245, 'p': 0.242424242424...</td>\n",
       "      <td>{'r': 0.30612244897959184, 'p': 0.535714285714...</td>\n",
       "    </tr>\n",
       "    <tr>\n",
       "      <th>3</th>\n",
       "      <td>{'r': 0.16326530612244897, 'p': 0.32, 'f': 0.2...</td>\n",
       "      <td>{'r': 0.03508771929824561, 'p': 0.071428571428...</td>\n",
       "      <td>{'r': 0.14285714285714285, 'p': 0.28, 'f': 0.1...</td>\n",
       "    </tr>\n",
       "    <tr>\n",
       "      <th>4</th>\n",
       "      <td>{'r': 0.2653061224489796, 'p': 0.0970149253731...</td>\n",
       "      <td>{'r': 0.07017543859649122, 'p': 0.022346368715...</td>\n",
       "      <td>{'r': 0.22448979591836735, 'p': 0.082089552238...</td>\n",
       "    </tr>\n",
       "    <tr>\n",
       "      <th>...</th>\n",
       "      <td>...</td>\n",
       "      <td>...</td>\n",
       "      <td>...</td>\n",
       "    </tr>\n",
       "    <tr>\n",
       "      <th>295</th>\n",
       "      <td>{'r': 0.6428571428571429, 'p': 0.6666666666666...</td>\n",
       "      <td>{'r': 0.559322033898305, 'p': 0.52380952380952...</td>\n",
       "      <td>{'r': 0.6071428571428571, 'p': 0.6296296296296...</td>\n",
       "    </tr>\n",
       "    <tr>\n",
       "      <th>296</th>\n",
       "      <td>{'r': 0.6428571428571429, 'p': 0.5454545454545...</td>\n",
       "      <td>{'r': 0.5423728813559322, 'p': 0.4, 'f': 0.460...</td>\n",
       "      <td>{'r': 0.6071428571428571, 'p': 0.5151515151515...</td>\n",
       "    </tr>\n",
       "    <tr>\n",
       "      <th>297</th>\n",
       "      <td>{'r': 0.6607142857142857, 'p': 0.6491228070175...</td>\n",
       "      <td>{'r': 0.5932203389830508, 'p': 0.5384615384615...</td>\n",
       "      <td>{'r': 0.6428571428571429, 'p': 0.6315789473684...</td>\n",
       "    </tr>\n",
       "    <tr>\n",
       "      <th>298</th>\n",
       "      <td>{'r': 0.2857142857142857, 'p': 0.3265306122448...</td>\n",
       "      <td>{'r': 0.13559322033898305, 'p': 0.129032258064...</td>\n",
       "      <td>{'r': 0.2857142857142857, 'p': 0.3265306122448...</td>\n",
       "    </tr>\n",
       "    <tr>\n",
       "      <th>299</th>\n",
       "      <td>{'r': 0.125, 'p': 0.3181818181818182, 'f': 0.1...</td>\n",
       "      <td>{'r': 0.01694915254237288, 'p': 0.038461538461...</td>\n",
       "      <td>{'r': 0.10714285714285714, 'p': 0.272727272727...</td>\n",
       "    </tr>\n",
       "  </tbody>\n",
       "</table>\n",
       "<p>300 rows × 3 columns</p>\n",
       "</div>"
      ],
      "text/plain": [
       "                                               rouge-1  \\\n",
       "0    {'r': 0.061224489795918366, 'p': 0.21428571428...   \n",
       "1    {'r': 0.08163265306122448, 'p': 0.266666666666...   \n",
       "2    {'r': 0.32653061224489793, 'p': 0.571428571428...   \n",
       "3    {'r': 0.16326530612244897, 'p': 0.32, 'f': 0.2...   \n",
       "4    {'r': 0.2653061224489796, 'p': 0.0970149253731...   \n",
       "..                                                 ...   \n",
       "295  {'r': 0.6428571428571429, 'p': 0.6666666666666...   \n",
       "296  {'r': 0.6428571428571429, 'p': 0.5454545454545...   \n",
       "297  {'r': 0.6607142857142857, 'p': 0.6491228070175...   \n",
       "298  {'r': 0.2857142857142857, 'p': 0.3265306122448...   \n",
       "299  {'r': 0.125, 'p': 0.3181818181818182, 'f': 0.1...   \n",
       "\n",
       "                                               rouge-2  \\\n",
       "0    {'r': 0.017543859649122806, 'p': 0.07142857142...   \n",
       "1    {'r': 0.03508771929824561, 'p': 0.133333333333...   \n",
       "2    {'r': 0.14035087719298245, 'p': 0.242424242424...   \n",
       "3    {'r': 0.03508771929824561, 'p': 0.071428571428...   \n",
       "4    {'r': 0.07017543859649122, 'p': 0.022346368715...   \n",
       "..                                                 ...   \n",
       "295  {'r': 0.559322033898305, 'p': 0.52380952380952...   \n",
       "296  {'r': 0.5423728813559322, 'p': 0.4, 'f': 0.460...   \n",
       "297  {'r': 0.5932203389830508, 'p': 0.5384615384615...   \n",
       "298  {'r': 0.13559322033898305, 'p': 0.129032258064...   \n",
       "299  {'r': 0.01694915254237288, 'p': 0.038461538461...   \n",
       "\n",
       "                                               rouge-l  \n",
       "0    {'r': 0.061224489795918366, 'p': 0.21428571428...  \n",
       "1    {'r': 0.061224489795918366, 'p': 0.2, 'f': 0.0...  \n",
       "2    {'r': 0.30612244897959184, 'p': 0.535714285714...  \n",
       "3    {'r': 0.14285714285714285, 'p': 0.28, 'f': 0.1...  \n",
       "4    {'r': 0.22448979591836735, 'p': 0.082089552238...  \n",
       "..                                                 ...  \n",
       "295  {'r': 0.6071428571428571, 'p': 0.6296296296296...  \n",
       "296  {'r': 0.6071428571428571, 'p': 0.5151515151515...  \n",
       "297  {'r': 0.6428571428571429, 'p': 0.6315789473684...  \n",
       "298  {'r': 0.2857142857142857, 'p': 0.3265306122448...  \n",
       "299  {'r': 0.10714285714285714, 'p': 0.272727272727...  \n",
       "\n",
       "[300 rows x 3 columns]"
      ]
     },
     "metadata": {},
     "output_type": "display_data"
    }
   ],
   "source": [
    "scores = []\n",
    "for llm, orig in zip(df['answer_llm'], df['answer_orig']):\n",
    "    score = rouge_scorer.get_scores(llm, orig)[0]\n",
    "    scores.append(score)\n",
    "\n",
    "scores_df = pd.DataFrame(scores)\n",
    "\n",
    "average_rouge_2 = scores_df['rouge-2'].apply(lambda x: x['f']).mean()\n",
    "\n",
    "display(scores_df)"
   ]
  },
  {
   "cell_type": "code",
   "execution_count": 28,
   "metadata": {},
   "outputs": [
    {
     "name": "stdout",
     "output_type": "stream",
     "text": [
      "Q6: Average rouge score for all the data points is 0.21\n"
     ]
    }
   ],
   "source": [
    "print(f\"Q6: Average rouge score for all the data points is {average_rouge_2:.2f}\")"
   ]
  }
 ],
 "metadata": {
  "kernelspec": {
   "display_name": "base",
   "language": "python",
   "name": "python3"
  },
  "language_info": {
   "codemirror_mode": {
    "name": "ipython",
    "version": 3
   },
   "file_extension": ".py",
   "mimetype": "text/x-python",
   "name": "python",
   "nbconvert_exporter": "python",
   "pygments_lexer": "ipython3",
   "version": "3.12.4"
  }
 },
 "nbformat": 4,
 "nbformat_minor": 2
}
